{
 "cells": [
  {
   "cell_type": "code",
   "execution_count": 65,
   "metadata": {},
   "outputs": [],
   "source": [
    "# Rosanna Bautista ID 1105980\n",
    "import torch"
   ]
  },
  {
   "cell_type": "code",
   "execution_count": 66,
   "metadata": {},
   "outputs": [],
   "source": [
    "## RNN de una sola capa\n",
    "# input_size = 5\n",
    "# seq_len = 10\n",
    "# hidden_size = 2\n",
    "\n",
    "# Input\n",
    "x = torch.rand(1, 10, 5)  # (batch_size -> cantidad de datos en el batch, seq_len -> longitud de la secuencia , feature_size -> longitud del vector que representa cada palabra)\n",
    "# Estado inicial\n",
    "h0 = torch.rand(1, 1, 2)\n",
    "# Red\n",
    "rnn = torch.nn.RNN(input_size=5, hidden_size=2, num_layers=1, bidirectional=False, batch_first=True)\n",
    "# Output y Estado Final\n",
    "output, h_n = rnn(x, h0)\n"
   ]
  },
  {
   "cell_type": "code",
   "execution_count": 67,
   "metadata": {},
   "outputs": [],
   "source": [
    "## RNN de una sola capa\n",
    "# num_layers = 2\n",
    "# bidirectional = True\n",
    "# input_size = 5\n",
    "# seq_len = 10\n",
    "# hidden_size = 2\n",
    "\n",
    "x = torch.rand(1, 10, 5)  # (batch_size, seq_len, feature_size)\n",
    "h0 = torch.rand(2*2, 1, 2)\n",
    "rnn = torch.nn.RNN(input_size=5, hidden_size=2, num_layers=2, bidirectional=True, batch_first=True)\n",
    "output, h_n = rnn(x, h0)"
   ]
  },
  {
   "cell_type": "code",
   "execution_count": 68,
   "metadata": {},
   "outputs": [
    {
     "name": "stderr",
     "output_type": "stream",
     "text": [
      "1987.98s - pydevd: Sending message related to process being replaced timed-out after 5 seconds\n"
     ]
    },
    {
     "name": "stdout",
     "output_type": "stream",
     "text": [
      "Requirement already satisfied: datasets in /Library/Frameworks/Python.framework/Versions/3.12/lib/python3.12/site-packages (2.20.0)\n",
      "Requirement already satisfied: filelock in /Library/Frameworks/Python.framework/Versions/3.12/lib/python3.12/site-packages (from datasets) (3.15.4)\n",
      "Requirement already satisfied: numpy>=1.17 in /Library/Frameworks/Python.framework/Versions/3.12/lib/python3.12/site-packages (from datasets) (1.26.4)\n",
      "Requirement already satisfied: pyarrow>=15.0.0 in /Library/Frameworks/Python.framework/Versions/3.12/lib/python3.12/site-packages (from datasets) (16.1.0)\n",
      "Requirement already satisfied: pyarrow-hotfix in /Library/Frameworks/Python.framework/Versions/3.12/lib/python3.12/site-packages (from datasets) (0.6)\n",
      "Requirement already satisfied: dill<0.3.9,>=0.3.0 in /Library/Frameworks/Python.framework/Versions/3.12/lib/python3.12/site-packages (from datasets) (0.3.8)\n",
      "Requirement already satisfied: pandas in /Library/Frameworks/Python.framework/Versions/3.12/lib/python3.12/site-packages (from datasets) (2.2.2)\n",
      "Requirement already satisfied: requests>=2.32.2 in /Library/Frameworks/Python.framework/Versions/3.12/lib/python3.12/site-packages (from datasets) (2.32.3)\n",
      "Requirement already satisfied: tqdm>=4.66.3 in /Library/Frameworks/Python.framework/Versions/3.12/lib/python3.12/site-packages (from datasets) (4.66.4)\n",
      "Requirement already satisfied: xxhash in /Library/Frameworks/Python.framework/Versions/3.12/lib/python3.12/site-packages (from datasets) (3.4.1)\n",
      "Requirement already satisfied: multiprocess in /Library/Frameworks/Python.framework/Versions/3.12/lib/python3.12/site-packages (from datasets) (0.70.16)\n",
      "Requirement already satisfied: fsspec<=2024.5.0,>=2023.1.0 in /Library/Frameworks/Python.framework/Versions/3.12/lib/python3.12/site-packages (from fsspec[http]<=2024.5.0,>=2023.1.0->datasets) (2024.5.0)\n",
      "Requirement already satisfied: aiohttp in /Library/Frameworks/Python.framework/Versions/3.12/lib/python3.12/site-packages (from datasets) (3.9.5)\n",
      "Requirement already satisfied: huggingface-hub>=0.21.2 in /Library/Frameworks/Python.framework/Versions/3.12/lib/python3.12/site-packages (from datasets) (0.23.4)\n",
      "Requirement already satisfied: packaging in /Library/Frameworks/Python.framework/Versions/3.12/lib/python3.12/site-packages (from datasets) (24.1)\n",
      "Requirement already satisfied: pyyaml>=5.1 in /Library/Frameworks/Python.framework/Versions/3.12/lib/python3.12/site-packages (from datasets) (6.0.1)\n",
      "Requirement already satisfied: aiosignal>=1.1.2 in /Library/Frameworks/Python.framework/Versions/3.12/lib/python3.12/site-packages (from aiohttp->datasets) (1.3.1)\n",
      "Requirement already satisfied: attrs>=17.3.0 in /Library/Frameworks/Python.framework/Versions/3.12/lib/python3.12/site-packages (from aiohttp->datasets) (23.2.0)\n",
      "Requirement already satisfied: frozenlist>=1.1.1 in /Library/Frameworks/Python.framework/Versions/3.12/lib/python3.12/site-packages (from aiohttp->datasets) (1.4.1)\n",
      "Requirement already satisfied: multidict<7.0,>=4.5 in /Library/Frameworks/Python.framework/Versions/3.12/lib/python3.12/site-packages (from aiohttp->datasets) (6.0.5)\n",
      "Requirement already satisfied: yarl<2.0,>=1.0 in /Library/Frameworks/Python.framework/Versions/3.12/lib/python3.12/site-packages (from aiohttp->datasets) (1.9.4)\n",
      "Requirement already satisfied: typing-extensions>=3.7.4.3 in /Library/Frameworks/Python.framework/Versions/3.12/lib/python3.12/site-packages (from huggingface-hub>=0.21.2->datasets) (4.12.2)\n",
      "Requirement already satisfied: charset-normalizer<4,>=2 in /Library/Frameworks/Python.framework/Versions/3.12/lib/python3.12/site-packages (from requests>=2.32.2->datasets) (3.3.2)\n",
      "Requirement already satisfied: idna<4,>=2.5 in /Library/Frameworks/Python.framework/Versions/3.12/lib/python3.12/site-packages (from requests>=2.32.2->datasets) (3.7)\n",
      "Requirement already satisfied: urllib3<3,>=1.21.1 in /Library/Frameworks/Python.framework/Versions/3.12/lib/python3.12/site-packages (from requests>=2.32.2->datasets) (2.2.2)\n",
      "Requirement already satisfied: certifi>=2017.4.17 in /Library/Frameworks/Python.framework/Versions/3.12/lib/python3.12/site-packages (from requests>=2.32.2->datasets) (2024.6.2)\n",
      "Requirement already satisfied: python-dateutil>=2.8.2 in /Users/rosannabm/Library/Python/3.12/lib/python/site-packages (from pandas->datasets) (2.9.0.post0)\n",
      "Requirement already satisfied: pytz>=2020.1 in /Library/Frameworks/Python.framework/Versions/3.12/lib/python3.12/site-packages (from pandas->datasets) (2024.1)\n",
      "Requirement already satisfied: tzdata>=2022.7 in /Library/Frameworks/Python.framework/Versions/3.12/lib/python3.12/site-packages (from pandas->datasets) (2024.1)\n",
      "Requirement already satisfied: six>=1.5 in /Users/rosannabm/Library/Python/3.12/lib/python/site-packages (from python-dateutil>=2.8.2->pandas->datasets) (1.16.0)\n",
      "\n",
      "\u001b[1m[\u001b[0m\u001b[34;49mnotice\u001b[0m\u001b[1;39;49m]\u001b[0m\u001b[39;49m A new release of pip is available: \u001b[0m\u001b[31;49m24.1\u001b[0m\u001b[39;49m -> \u001b[0m\u001b[32;49m24.1.1\u001b[0m\n",
      "\u001b[1m[\u001b[0m\u001b[34;49mnotice\u001b[0m\u001b[1;39;49m]\u001b[0m\u001b[39;49m To update, run: \u001b[0m\u001b[32;49mpip install --upgrade pip\u001b[0m\n",
      "Note: you may need to restart the kernel to use updated packages.\n"
     ]
    }
   ],
   "source": [
    "# Descargar dataset\n",
    "%pip install datasets"
   ]
  },
  {
   "cell_type": "code",
   "execution_count": 69,
   "metadata": {},
   "outputs": [],
   "source": [
    "# Cargar la data, obvio\n",
    "from datasets import load_dataset\n",
    "dataset = load_dataset(\"5cp/imdb_review_prompts\", trust_remote_code=True)"
   ]
  },
  {
   "cell_type": "code",
   "execution_count": 70,
   "metadata": {},
   "outputs": [],
   "source": [
    "train_texts = dataset['train']['text']\n",
    "train_labels = dataset['train']['label']\n",
    "test_texts = dataset['test']['text']\n",
    "test_labels = dataset['test']['label']"
   ]
  },
  {
   "cell_type": "code",
   "execution_count": 71,
   "metadata": {},
   "outputs": [],
   "source": [
    "train_texts = [text.split('###')[2].replace('Review: ', '') for text in train_texts]\n",
    "test_texts = [text.split('###')[2].replace('Review: ', '') for text in test_texts]"
   ]
  },
  {
   "cell_type": "code",
   "execution_count": 72,
   "metadata": {},
   "outputs": [],
   "source": [
    "# Pre-procesamiento\n",
    "from string import punctuation\n",
    "from collections import Counter\n",
    "import numpy as np\n",
    "\n",
    "\n",
    "\n",
    "train_reviews = [review.lower() for review in train_texts]\n",
    "test_reviews = [review.lower() for review in test_texts]\n",
    "train_reviews = [''.join([c for c in review if c not in punctuation]) for review in train_reviews]\n",
    "test_reviews = [''.join([c for c in review if c not in punctuation]) for review in test_reviews]\n",
    "\n",
    "all_texts = ' '.join(train_reviews + test_reviews) # al sumar listas se concatenan\n",
    "words = all_texts.split()\n",
    "count_words = Counter(words)\n",
    "sorted_words = count_words.most_common(len(words))\n",
    "vocab_to_int = {word:i+1 for i, (word,c) in enumerate(sorted_words)}"
   ]
  },
  {
   "cell_type": "code",
   "execution_count": 73,
   "metadata": {},
   "outputs": [],
   "source": [
    "train_labels = np.array(train_labels)\n",
    "test_labels = np.array(test_labels)"
   ]
  },
  {
   "cell_type": "code",
   "execution_count": 74,
   "metadata": {},
   "outputs": [],
   "source": [
    "train_reviews_int = []\n",
    "for review in train_reviews:\n",
    "    r = [vocab_to_int[word] for word in review.split()]\n",
    "    train_reviews_int.append(r)\n",
    "\n",
    "test_reviews_int = []\n",
    "for review in test_reviews:\n",
    "    r = [vocab_to_int[word] for word in review.split()]\n",
    "    test_reviews_int.append(r)"
   ]
  },
  {
   "cell_type": "code",
   "execution_count": 75,
   "metadata": {},
   "outputs": [],
   "source": [
    "## el padding es agregar 0s a vectores o matrices\n",
    "def pad_sequence(reviews_int: list, seq_len: int) -> np.array:\n",
    "\n",
    "    features = np.zeros((len(reviews_int), seq_len), dtype=int)\n",
    "\n",
    "    for i, review in enumerate(reviews_int):\n",
    "        review_len = len(review)\n",
    "\n",
    "        if review_len <= seq_len:\n",
    "            zeroes = list(np.zeros(seq_len - review_len))\n",
    "            new_review = zeroes + review # agregar 0 a vectores de palabras que sean cortos\n",
    "        else:\n",
    "            new_review = review[:seq_len] # recortar reviews muy largas\n",
    "        features[i,:] = np.array(new_review)\n",
    "\n",
    "    return features"
   ]
  },
  {
   "cell_type": "code",
   "execution_count": 76,
   "metadata": {},
   "outputs": [],
   "source": [
    "padded_train_reviews = pad_sequence(train_reviews_int, 100)\n",
    "padded_test_reviews = pad_sequence(test_reviews_int, 100)"
   ]
  },
  {
   "cell_type": "code",
   "execution_count": 77,
   "metadata": {},
   "outputs": [],
   "source": [
    "# Cargar como Dataset\n",
    "from torch.utils.data import TensorDataset, DataLoader\n",
    "\n",
    "batch_size = 64\n",
    "\n",
    "# Se transforman los datos en tensores que tienen en la primera posicion la review y en la segunda su label\n",
    "train_data = TensorDataset(torch.from_numpy(padded_train_reviews), torch.from_numpy(train_labels))\n",
    "test_data = TensorDataset(torch.from_numpy(padded_test_reviews), torch.from_numpy(test_labels))\n",
    "\n",
    "# Para el entrenamiento se usa el shuffle True porque en la data original estan todos los negativos juntos y todos los positivos juntos\n",
    "train_loader = DataLoader(train_data, batch_size=batch_size, shuffle=True)\n",
    "# Para el test no es necesario el shuffle\n",
    "test_loader = DataLoader(test_data, batch_size=batch_size, shuffle=False)"
   ]
  },
  {
   "cell_type": "code",
   "execution_count": 78,
   "metadata": {},
   "outputs": [
    {
     "name": "stdout",
     "output_type": "stream",
     "text": [
      "Input size: torch.Size([64, 100])\n",
      "Input: tensor([[   0,    0,    0,  ...,   90,   15, 1665],\n",
      "        [   0,    0,    0,  ..., 1638,    5, 2862],\n",
      "        [   0,    0,    0,  ...,  115,    2, 3103],\n",
      "        ...,\n",
      "        [   0,    0,    0,  ...,  648,   51,    5],\n",
      "        [   0,    0,    0,  ...,  635,   53,  635],\n",
      "        [   0,    0,    0,  ..., 1728, 2249, 3537]])\n",
      "Output size: torch.Size([64])\n",
      "Output: tensor([1, 1, 1, 0, 1, 0, 1, 0, 0, 1, 0, 0, 0, 1, 1, 1, 1, 0, 1, 1, 1, 1, 1, 0,\n",
      "        1, 1, 0, 1, 1, 0, 0, 0, 0, 1, 0, 1, 1, 1, 1, 1, 1, 1, 1, 1, 0, 0, 0, 1,\n",
      "        0, 0, 0, 0, 0, 0, 0, 0, 1, 0, 0, 0, 1, 0, 1, 0])\n"
     ]
    }
   ],
   "source": [
    "# Check the data\n",
    "batch = next(iter(train_loader))\n",
    "x, y = batch\n",
    "\n",
    "print(\"Input size:\", x.size())\n",
    "print(\"Input:\", x)\n",
    "\n",
    "print(\"Output size:\", y.size())\n",
    "print(\"Output:\", y)"
   ]
  },
  {
   "cell_type": "code",
   "execution_count": 79,
   "metadata": {},
   "outputs": [],
   "source": [
    "# Definir Red Recurrente\n",
    "class SentimentAnalysis(torch.nn.Module):\n",
    "    def __init__(self, vocab_size: int, embedding_dim: int, output_size: int, hidden_dim: int, num_layers: int):\n",
    "        super().__init__()\n",
    "\n",
    "        self.num_layers = num_layers\n",
    "        self.hidden_dim = hidden_dim\n",
    "        self.output_size = output_size # en nuestro caso 2, positivo o negativo\n",
    "\n",
    "        self.embedding = torch.nn.Embedding(\n",
    "            vocab_size, # cantidad de palabras en el vocabulario\n",
    "            embedding_dim, # valor arbitrario\n",
    "            padding_idx = 0) # valor con el que hicimos padding\n",
    "\n",
    "        self.rnn = torch.nn.LSTM(\n",
    "            embedding_dim, # representa el input size\n",
    "            hidden_dim,\n",
    "            num_layers,\n",
    "            batch_first=True)\n",
    "\n",
    "        self.linear = torch.nn.Linear(hidden_dim, output_size)\n",
    "        self.sigmoid = torch.nn.Sigmoid()\n",
    "\n",
    "    def forward(self, x, h0):\n",
    "        embeddings = self.embedding(x) # convertir cada palabra a su embedding\n",
    "        output, h_n = self.rnn(embeddings, h0) # pasamos estos embeddings y el estado inicial a la rnn\n",
    "        output = self.linear(output[:,-1,:]) # pasar por capa lineal para obtener 2 valores (positivo o negativo)\n",
    "        output = self.sigmoid(output) # pasar por sigmoide para convertir output anterior en probabilidad\n",
    "        return output"
   ]
  },
  {
   "cell_type": "code",
   "execution_count": 80,
   "metadata": {},
   "outputs": [
    {
     "name": "stdout",
     "output_type": "stream",
     "text": [
      "Epoch [1/10], Train Loss: 0.7128, Train Accuracy: 50.00%\n",
      "Epoch [2/10], Train Loss: 0.6800, Train Accuracy: 57.14%\n",
      "Epoch [3/10], Train Loss: 0.6698, Train Accuracy: 64.29%\n",
      "Epoch [4/10], Train Loss: 0.4593, Train Accuracy: 85.71%\n",
      "Epoch [5/10], Train Loss: 0.5143, Train Accuracy: 85.71%\n",
      "Epoch [6/10], Train Loss: 0.4132, Train Accuracy: 85.71%\n",
      "Epoch [7/10], Train Loss: 0.3331, Train Accuracy: 78.57%\n",
      "Epoch [8/10], Train Loss: 0.2570, Train Accuracy: 92.86%\n",
      "Epoch [9/10], Train Loss: 0.3029, Train Accuracy: 78.57%\n",
      "Epoch [10/10], Train Loss: 0.0413, Train Accuracy: 100.00%\n",
      "Test Accuracy: 70.44%\n"
     ]
    }
   ],
   "source": [
    "import torch\n",
    "import torch.nn as nn\n",
    "\n",
    "class SentimentAnalysis(nn.Module):\n",
    "    def __init__(self, vocab_size, embedding_dim, hidden_dim, num_layers=1, output_size=1):\n",
    "        super(SentimentAnalysis, self).__init__()\n",
    "        self.embedding = nn.Embedding(vocab_size, embedding_dim)\n",
    "        self.rnn = nn.LSTM(embedding_dim, hidden_dim, num_layers, batch_first=True)\n",
    "        self.fc = nn.Linear(hidden_dim, output_size)\n",
    "        self.sigmoid = nn.Sigmoid()\n",
    "\n",
    "    def forward(self, inputs, h0, c0):\n",
    "        embeds = self.embedding(inputs)\n",
    "        lstm_out, _ = self.rnn(embeds, (h0, c0))\n",
    "        output = self.fc(lstm_out[:, -1, :])  # Use the last time step's output\n",
    "        output = self.sigmoid(output)\n",
    "        return output.squeeze()\n",
    "\n",
    "# Asumiendo que tienes train_loader y test_loader definidos correctamente\n",
    "\n",
    "# Ajuste de hiperparámetros\n",
    "vocab_size = len(vocab_to_int) + 1    # +1 por el padding '0'\n",
    "output_size = 1\n",
    "embedding_dim = 100\n",
    "hidden_dim = 128\n",
    "num_layers = 1\n",
    "learning_rate = 0.001\n",
    "num_epochs = 10\n",
    "\n",
    "model = SentimentAnalysis(\n",
    "    vocab_size=vocab_size,\n",
    "    embedding_dim=embedding_dim,\n",
    "    hidden_dim=hidden_dim,\n",
    "    num_layers=num_layers,\n",
    "    output_size=output_size\n",
    ")\n",
    "\n",
    "loss_function = torch.nn.BCELoss()\n",
    "optimizer = torch.optim.Adam(model.parameters(), lr=learning_rate)\n",
    "\n",
    "model.train()\n",
    "\n",
    "losses = []\n",
    "accuracies = []\n",
    "\n",
    "for epoch in range(num_epochs):\n",
    "    for inputs, labels in train_loader:\n",
    "        # Inicializando estado\n",
    "        batch_size = inputs.size(0)\n",
    "        h0 = torch.randn(num_layers, batch_size, hidden_dim)\n",
    "        c0 = torch.zeros(num_layers, batch_size, hidden_dim)\n",
    "\n",
    "        optimizer.zero_grad()\n",
    "        outputs = model(inputs, h0, c0)\n",
    "        loss = loss_function(outputs, labels.float())\n",
    "        loss.backward()\n",
    "        optimizer.step()\n",
    "\n",
    "        # Calculando accuracy\n",
    "        pred = (outputs > 0.5).float()\n",
    "        acc = torch.mean((pred == labels).float())\n",
    "\n",
    "        losses.append(loss.item())\n",
    "        accuracies.append(acc.item())\n",
    "\n",
    "    print(f\"Epoch [{epoch+1}/{num_epochs}], Train Loss: {losses[-1]:.4f}, Train Accuracy: {accuracies[-1] * 100:.2f}%\")\n",
    "\n",
    "# Evaluación en el conjunto de prueba\n",
    "model.eval()\n",
    "test_accuracy = 0.0\n",
    "\n",
    "with torch.no_grad():\n",
    "    for inputs, labels in test_loader:\n",
    "        h0 = torch.randn(num_layers, inputs.size(0), hidden_dim)\n",
    "        c0 = torch.zeros(num_layers, inputs.size(0), hidden_dim)\n",
    "\n",
    "        outputs = model(inputs, h0, c0)\n",
    "        pred = (outputs > 0.5).float()\n",
    "        acc = torch.mean((pred == labels).float())\n",
    "\n",
    "        test_accuracy += acc.item()\n",
    "\n",
    "test_accuracy /= len(test_loader)\n",
    "print(f\"Test Accuracy: {test_accuracy * 100:.2f}%\")\n"
   ]
  },
  {
   "cell_type": "code",
   "execution_count": 81,
   "metadata": {},
   "outputs": [
    {
     "data": {
      "image/png": "[encoded data removed]",
      "text/plain": [
       "<Figure size 640x480 with 1 Axes>"
      ]
     },
     "metadata": {},
     "output_type": "display_data"
    }
   ],
   "source": [
    "# Gráfica\n",
    "import matplotlib.pyplot as plt\n",
    "\n",
    "plt.plot(losses, 'b')\n",
    "plt.plot(accuracies, 'r')\n",
    "plt.show()"
   ]
  },
  {
   "cell_type": "code",
   "execution_count": 83,
   "metadata": {},
   "outputs": [
    {
     "name": "stdout",
     "output_type": "stream",
     "text": [
      "the movie itself was ok for the kids but i gotta tell ya that scratch the little squirrel was the funniest character ive ever seen he makes the movie all by himself hes the reason ive just love this movie congradulations to the crew it made me laugh out loud and always will\n",
      "Actual sentiment: positive\n",
      "Pred. Sentiment: positive\n"
     ]
    }
   ],
   "source": [
    "import random\n",
    "\n",
    "def int_to_voc(val, my_dict):\n",
    "    for word, value in my_dict.items():\n",
    "        if val==value:\n",
    "            return word\n",
    "\n",
    "model.cpu()\n",
    "review, label = random.choice(train_data)\n",
    "review_sentence = ' '.join([int_to_voc(val, vocab_to_int) for val in review if val != 0])\n",
    "print(review_sentence)\n",
    "\n",
    "print(\"Actual sentiment:\", \"negative\" if label.item() == 0 else \"positive\")\n",
    "\n",
    "# Initialize both h0 and c0\n",
    "h0 = torch.randn(num_layers, 1, hidden_dim)\n",
    "c0 = torch.zeros(num_layers, 1, hidden_dim)  \n",
    "\n",
    "# Pass both h0 and c0 to the model\n",
    "output = model(review.unsqueeze(0), h0, c0)  \n",
    "sentiment = 'negative' if output < 0.5 else 'positive'\n",
    "print(\"Pred. Sentiment:\", sentiment)"
   ]
  }
 ],
 "metadata": {
  "kernelspec": {
   "display_name": "Python 3",
   "language": "python",
   "name": "python3"
  },
  "language_info": {
   "codemirror_mode": {
    "name": "ipython",
    "version": 3
   },
   "file_extension": ".py",
   "mimetype": "text/x-python",
   "name": "python",
   "nbconvert_exporter": "python",
   "pygments_lexer": "ipython3",
   "version": "3.12.4"
  },
  "orig_nbformat": 4
 },
 "nbformat": 4,
 "nbformat_minor": 2
}
